{
 "cells": [
  {
   "cell_type": "markdown",
   "metadata": {},
   "source": [
    "# __Project_NoraKhanaghyan__"
   ]
  },
  {
   "cell_type": "markdown",
   "metadata": {},
   "source": [
    "## _1. Loading and manipulating data_"
   ]
  },
  {
   "cell_type": "code",
   "execution_count": 1,
   "metadata": {},
   "outputs": [],
   "source": [
    "import matplotlib\n",
    "%matplotlib inline\n",
    "import pandas as pd"
   ]
  },
  {
   "cell_type": "code",
   "execution_count": 2,
   "metadata": {},
   "outputs": [],
   "source": [
    "data = pd.read_csv(\"yelp_data.csv\", index_col = 1) #read data\n"
   ]
  },
  {
   "cell_type": "code",
   "execution_count": 3,
   "metadata": {},
   "outputs": [
    {
     "name": "stdout",
     "output_type": "stream",
     "text": [
      "0 Unnamed: 0\n",
      "1 cool\n",
      "2 date\n",
      "3 eliteStatus\n",
      "4 friends\n",
      "5 funny\n",
      "6 location\n",
      "7 name\n",
      "8 phone\n",
      "9 ratings\n",
      "10 review\n",
      "11 reviewHistory\n",
      "12 useful\n",
      "13 userlink\n",
      "14 username\n"
     ]
    }
   ],
   "source": [
    "for ix, name in enumerate(data.columns):\n",
    "    print (ix,name)"
   ]
  },
  {
   "cell_type": "code",
   "execution_count": 4,
   "metadata": {
    "scrolled": false
   },
   "outputs": [],
   "source": [
    "data = data.drop(data.columns[[0,13]], axis=1)"
   ]
  },
  {
   "cell_type": "code",
   "execution_count": 5,
   "metadata": {},
   "outputs": [],
   "source": [
    "data['date'] = pd.to_datetime(data['date'])\n"
   ]
  },
  {
   "cell_type": "markdown",
   "metadata": {},
   "source": [
    "## _2. Importing Stop words_"
   ]
  },
  {
   "cell_type": "code",
   "execution_count": 6,
   "metadata": {},
   "outputs": [],
   "source": [
    "stop = pd.read_csv(\"yelp.stop\", names =[\"words\"])"
   ]
  },
  {
   "cell_type": "code",
   "execution_count": 7,
   "metadata": {},
   "outputs": [],
   "source": [
    "stop_list=stop['words'].values.tolist()"
   ]
  },
  {
   "cell_type": "markdown",
   "metadata": {},
   "source": [
    "## _3. LDA_"
   ]
  },
  {
   "cell_type": "code",
   "execution_count": 8,
   "metadata": {},
   "outputs": [],
   "source": [
    "from sklearn.feature_extraction.text import CountVectorizer"
   ]
  },
  {
   "cell_type": "code",
   "execution_count": 9,
   "metadata": {},
   "outputs": [],
   "source": [
    "from sklearn.decomposition import LatentDirichletAllocation\n",
    "from sklearn.model_selection import train_test_split"
   ]
  },
  {
   "cell_type": "markdown",
   "metadata": {},
   "source": [
    "### Only 200 features"
   ]
  },
  {
   "cell_type": "code",
   "execution_count": 10,
   "metadata": {},
   "outputs": [],
   "source": [
    "vec_200 = CountVectorizer(token_pattern= \"[a-zA-Z']{3,}\",decode_error ='ignore', lowercase=True, stop_words = stop_list, max_features = 200)"
   ]
  },
  {
   "cell_type": "code",
   "execution_count": 11,
   "metadata": {},
   "outputs": [],
   "source": [
    "sparse_matrice = vec_200.fit_transform(data.review)"
   ]
  },
  {
   "cell_type": "code",
   "execution_count": 12,
   "metadata": {},
   "outputs": [
    {
     "data": {
      "text/html": [
       "<div>\n",
       "<style>\n",
       "    .dataframe thead tr:only-child th {\n",
       "        text-align: right;\n",
       "    }\n",
       "\n",
       "    .dataframe thead th {\n",
       "        text-align: left;\n",
       "    }\n",
       "\n",
       "    .dataframe tbody tr th {\n",
       "        vertical-align: top;\n",
       "    }\n",
       "</style>\n",
       "<table border=\"1\" class=\"dataframe\">\n",
       "  <thead>\n",
       "    <tr style=\"text-align: right;\">\n",
       "      <th></th>\n",
       "      <th>abalone</th>\n",
       "      <th>amazing</th>\n",
       "      <th>ambiance</th>\n",
       "      <th>appetizer</th>\n",
       "      <th>area</th>\n",
       "      <th>asian</th>\n",
       "      <th>asked</th>\n",
       "      <th>astoria</th>\n",
       "      <th>ate</th>\n",
       "      <th>atmosphere</th>\n",
       "      <th>...</th>\n",
       "      <th>udon</th>\n",
       "      <th>waiter</th>\n",
       "      <th>waiters</th>\n",
       "      <th>wanted</th>\n",
       "      <th>water</th>\n",
       "      <th>watermelon</th>\n",
       "      <th>worth</th>\n",
       "      <th>years</th>\n",
       "      <th>yelp</th>\n",
       "      <th>yum</th>\n",
       "    </tr>\n",
       "  </thead>\n",
       "  <tbody>\n",
       "    <tr>\n",
       "      <th>0</th>\n",
       "      <td>0</td>\n",
       "      <td>0</td>\n",
       "      <td>0</td>\n",
       "      <td>0</td>\n",
       "      <td>0</td>\n",
       "      <td>0</td>\n",
       "      <td>0</td>\n",
       "      <td>0</td>\n",
       "      <td>0</td>\n",
       "      <td>0</td>\n",
       "      <td>...</td>\n",
       "      <td>0</td>\n",
       "      <td>0</td>\n",
       "      <td>0</td>\n",
       "      <td>0</td>\n",
       "      <td>0</td>\n",
       "      <td>1</td>\n",
       "      <td>1</td>\n",
       "      <td>0</td>\n",
       "      <td>0</td>\n",
       "      <td>0</td>\n",
       "    </tr>\n",
       "    <tr>\n",
       "      <th>1</th>\n",
       "      <td>0</td>\n",
       "      <td>0</td>\n",
       "      <td>0</td>\n",
       "      <td>0</td>\n",
       "      <td>0</td>\n",
       "      <td>0</td>\n",
       "      <td>1</td>\n",
       "      <td>0</td>\n",
       "      <td>0</td>\n",
       "      <td>0</td>\n",
       "      <td>...</td>\n",
       "      <td>0</td>\n",
       "      <td>0</td>\n",
       "      <td>0</td>\n",
       "      <td>0</td>\n",
       "      <td>0</td>\n",
       "      <td>0</td>\n",
       "      <td>0</td>\n",
       "      <td>0</td>\n",
       "      <td>0</td>\n",
       "      <td>2</td>\n",
       "    </tr>\n",
       "    <tr>\n",
       "      <th>2</th>\n",
       "      <td>0</td>\n",
       "      <td>0</td>\n",
       "      <td>0</td>\n",
       "      <td>0</td>\n",
       "      <td>0</td>\n",
       "      <td>0</td>\n",
       "      <td>0</td>\n",
       "      <td>0</td>\n",
       "      <td>0</td>\n",
       "      <td>0</td>\n",
       "      <td>...</td>\n",
       "      <td>0</td>\n",
       "      <td>1</td>\n",
       "      <td>0</td>\n",
       "      <td>1</td>\n",
       "      <td>0</td>\n",
       "      <td>0</td>\n",
       "      <td>0</td>\n",
       "      <td>0</td>\n",
       "      <td>0</td>\n",
       "      <td>0</td>\n",
       "    </tr>\n",
       "    <tr>\n",
       "      <th>3</th>\n",
       "      <td>0</td>\n",
       "      <td>0</td>\n",
       "      <td>0</td>\n",
       "      <td>0</td>\n",
       "      <td>0</td>\n",
       "      <td>0</td>\n",
       "      <td>0</td>\n",
       "      <td>0</td>\n",
       "      <td>0</td>\n",
       "      <td>0</td>\n",
       "      <td>...</td>\n",
       "      <td>0</td>\n",
       "      <td>0</td>\n",
       "      <td>0</td>\n",
       "      <td>0</td>\n",
       "      <td>0</td>\n",
       "      <td>0</td>\n",
       "      <td>0</td>\n",
       "      <td>0</td>\n",
       "      <td>0</td>\n",
       "      <td>0</td>\n",
       "    </tr>\n",
       "    <tr>\n",
       "      <th>4</th>\n",
       "      <td>0</td>\n",
       "      <td>0</td>\n",
       "      <td>0</td>\n",
       "      <td>0</td>\n",
       "      <td>0</td>\n",
       "      <td>0</td>\n",
       "      <td>0</td>\n",
       "      <td>0</td>\n",
       "      <td>0</td>\n",
       "      <td>0</td>\n",
       "      <td>...</td>\n",
       "      <td>0</td>\n",
       "      <td>0</td>\n",
       "      <td>0</td>\n",
       "      <td>0</td>\n",
       "      <td>0</td>\n",
       "      <td>2</td>\n",
       "      <td>1</td>\n",
       "      <td>0</td>\n",
       "      <td>0</td>\n",
       "      <td>0</td>\n",
       "    </tr>\n",
       "  </tbody>\n",
       "</table>\n",
       "<p>5 rows × 200 columns</p>\n",
       "</div>"
      ],
      "text/plain": [
       "   abalone  amazing  ambiance  appetizer  area  asian  asked  astoria  ate  \\\n",
       "0        0        0         0          0     0      0      0        0    0   \n",
       "1        0        0         0          0     0      0      1        0    0   \n",
       "2        0        0         0          0     0      0      0        0    0   \n",
       "3        0        0         0          0     0      0      0        0    0   \n",
       "4        0        0         0          0     0      0      0        0    0   \n",
       "\n",
       "   atmosphere ...   udon  waiter  waiters  wanted  water  watermelon  worth  \\\n",
       "0           0 ...      0       0        0       0      0           1      1   \n",
       "1           0 ...      0       0        0       0      0           0      0   \n",
       "2           0 ...      0       1        0       1      0           0      0   \n",
       "3           0 ...      0       0        0       0      0           0      0   \n",
       "4           0 ...      0       0        0       0      0           2      1   \n",
       "\n",
       "   years  yelp  yum  \n",
       "0      0     0    0  \n",
       "1      0     0    2  \n",
       "2      0     0    0  \n",
       "3      0     0    0  \n",
       "4      0     0    0  \n",
       "\n",
       "[5 rows x 200 columns]"
      ]
     },
     "execution_count": 12,
     "metadata": {},
     "output_type": "execute_result"
    }
   ],
   "source": [
    "pd.DataFrame(sparse_matrice.toarray(), columns = vec_200.get_feature_names()).head()\n"
   ]
  },
  {
   "cell_type": "code",
   "execution_count": 13,
   "metadata": {},
   "outputs": [
    {
     "data": {
      "text/plain": [
       "<666x200 sparse matrix of type '<class 'numpy.int64'>'\n",
       "\twith 10232 stored elements in Compressed Sparse Row format>"
      ]
     },
     "execution_count": 13,
     "metadata": {},
     "output_type": "execute_result"
    }
   ],
   "source": [
    "sparse_matrice"
   ]
  },
  {
   "cell_type": "code",
   "execution_count": 14,
   "metadata": {},
   "outputs": [],
   "source": [
    "X_train_200, X_test_200 = train_test_split(sparse_matrice, test_size=0.20, random_state=42) ## 80 -20 split"
   ]
  },
  {
   "cell_type": "code",
   "execution_count": 15,
   "metadata": {},
   "outputs": [],
   "source": [
    "def print_top_words(model, feature_names, n_top_words):\n",
    "    for topic_idx, topic in enumerate(model.components_):\n",
    "        print(\"Topic #%d:\" % topic_idx)\n",
    "        print(\" \".join([feature_names[i]\n",
    "                        for i in topic.argsort()[:-n_top_words - 1:-1]]))\n",
    "    print()"
   ]
  },
  {
   "cell_type": "code",
   "execution_count": 16,
   "metadata": {
    "scrolled": true
   },
   "outputs": [
    {
     "name": "stdout",
     "output_type": "stream",
     "text": [
      "Topic #0:\n",
      "spicy dish rice noodles sauce\n",
      "Topic #1:\n",
      "dishes korean give big atmosphere\n",
      "Topic #2:\n",
      "seafood pot octopus live hot\n",
      "Topic #3:\n",
      "friends table eating beef things\n",
      "Topic #4:\n",
      "thai pad leng curry astoria\n",
      "\n",
      "5 228.043108175\n",
      "\n",
      "\n",
      "Topic #0:\n",
      "spicy dish bit pork duck\n",
      "Topic #1:\n",
      "atmosphere large group small music\n",
      "Topic #2:\n",
      "pot octopus live hot seafood\n",
      "Topic #3:\n",
      "seafood soju watermelon pancake sik\n",
      "Topic #4:\n",
      "noodles sauce give taste sweet\n",
      "Topic #5:\n",
      "shrimp soup eggs worth side\n",
      "Topic #6:\n",
      "big friends amazing loud dinner\n",
      "Topic #7:\n",
      "clams mussels fun cooked squid\n",
      "Topic #8:\n",
      "things thing birthday super long\n",
      "Topic #9:\n",
      "rice fried thought free gave\n",
      "Topic #10:\n",
      "waiter friend beef table asked\n",
      "Topic #11:\n",
      "korean bad eating places waiters\n",
      "Topic #12:\n",
      "huge meal times stars day\n",
      "Topic #13:\n",
      "thai pad leng curry salad\n",
      "Topic #14:\n",
      "dishes portions astoria decor patio\n",
      "\n",
      "15 225.736883946\n",
      "\n",
      "\n",
      "Topic #0:\n",
      "sauce soup bit excellent yum\n",
      "Topic #1:\n",
      "korean group small bbq style\n",
      "Topic #2:\n",
      "octopus live hotpot lobster crab\n",
      "Topic #3:\n",
      "seafood pancake sik gaek reason\n",
      "Topic #4:\n",
      "taste broth flavor minutes served\n",
      "Topic #5:\n",
      "spicy eggs side find restaurants\n",
      "Topic #6:\n",
      "dishes attentive full sit price\n",
      "Topic #7:\n",
      "dish cooked worth squid wanted\n",
      "Topic #8:\n",
      "thing sweet super bring kind\n",
      "Topic #9:\n",
      "things long thought free cool\n",
      "Topic #10:\n",
      "table waiter friend front asked\n",
      "Topic #11:\n",
      "eating places raw gave top\n",
      "Topic #12:\n",
      "huge meal large tasty brought\n",
      "Topic #13:\n",
      "thai pad leng decent yum\n",
      "Topic #14:\n",
      "astoria atmosphere authentic prices ambiance\n",
      "Topic #15:\n",
      "pot hot beef red type\n",
      "Topic #16:\n",
      "give portions decor stars inside\n",
      "Topic #17:\n",
      "seafood soju watermelon fun party\n",
      "Topic #18:\n",
      "bad waiters special feel tasted\n",
      "Topic #19:\n",
      "rice fried clams mussels lot\n",
      "Topic #20:\n",
      "shrimp pork delivery put meat\n",
      "Topic #21:\n",
      "noodles curry noodle green server\n",
      "Topic #22:\n",
      "amazing favorite recommend patio salad\n",
      "Topic #23:\n",
      "big dinner awesome times area\n",
      "Topic #24:\n",
      "friends loud music birthday drink\n",
      "\n",
      "25 231.375636638\n",
      "\n",
      "\n",
      "Topic #0:\n",
      "spicy bit yum star fun\n",
      "Topic #1:\n",
      "meal small eggs left style\n",
      "Topic #2:\n",
      "octopus live hotpot abalone cook\n",
      "Topic #3:\n",
      "seafood pancake sik gaek favorite\n",
      "Topic #4:\n",
      "sauce taste thing minutes served\n",
      "Topic #5:\n",
      "large find cut couple grill\n",
      "Topic #6:\n",
      "seafood attentive full cool serve\n",
      "Topic #7:\n",
      "dish huge quality reservations yum\n",
      "Topic #8:\n",
      "sweet super bring kind ate\n",
      "Topic #9:\n",
      "things side long hard interesting\n",
      "Topic #10:\n",
      "waiter friend asked front loved\n",
      "Topic #11:\n",
      "eating places bbq raw free\n",
      "Topic #12:\n",
      "table tasty brought seated home\n",
      "Topic #13:\n",
      "thai duck restaurants authentic crispy\n",
      "Topic #14:\n",
      "leng astoria ambiance coconut dining\n",
      "Topic #15:\n",
      "beef lot wanted red type\n",
      "Topic #16:\n",
      "give stars top grilled summer\n",
      "Topic #17:\n",
      "soju watermelon seafood fun party\n",
      "Topic #18:\n",
      "bad waiters special feel tasted\n",
      "Topic #19:\n",
      "thai times patio excellent feel\n",
      "Topic #20:\n",
      "shrimp pork delivery put meat\n",
      "Topic #21:\n",
      "noodles curry noodle green looked\n",
      "Topic #22:\n",
      "dishes favorite salad portion tea\n",
      "Topic #23:\n",
      "pad amazing awesome recommend find\n",
      "Topic #24:\n",
      "friends loud music family water\n",
      "Topic #25:\n",
      "rice fried thought kimchi drinks\n",
      "Topic #26:\n",
      "portions decor dinner birthday prices\n",
      "Topic #27:\n",
      "big drink day price enjoy\n",
      "Topic #28:\n",
      "atmosphere sit outdoor reason high\n",
      "Topic #29:\n",
      "clams mussels lobster cooked squid\n",
      "Topic #30:\n",
      "area inside garden ordering street\n",
      "Topic #31:\n",
      "seafood soup broth steamed makes\n",
      "Topic #32:\n",
      "korean flavor egg stuff start\n",
      "Topic #33:\n",
      "seafood group worth cake servers\n",
      "Topic #34:\n",
      "pot hot mouth crab tentacles\n",
      "\n",
      "35 236.553211313\n",
      "\n",
      "\n",
      "Topic #0:\n",
      "bit friend yum star gaek\n",
      "Topic #1:\n",
      "seafood left style end tables\n",
      "Topic #2:\n",
      "octopus live hotpot abalone cook\n",
      "Topic #3:\n",
      "seafood sik gaek flushing favorite\n",
      "Topic #4:\n",
      "sauce thing served fan duck\n",
      "Topic #5:\n",
      "shrimp large find couple grill\n",
      "Topic #6:\n",
      "attentive full cool seafood extremely\n",
      "Topic #7:\n",
      "dish huge small reservations yum\n",
      "Topic #8:\n",
      "day bring person open yum\n",
      "Topic #9:\n",
      "things long super kind hard\n",
      "Topic #10:\n",
      "waiter asked front seated loved\n",
      "Topic #11:\n",
      "eating places bbq server tip\n",
      "Topic #12:\n",
      "table pancake brought home pieces\n",
      "Topic #13:\n",
      "leng thai duck street decent\n",
      "Topic #14:\n",
      "thai patio outdoor coconut dining\n",
      "Topic #15:\n",
      "beef lot red type udon\n",
      "Topic #16:\n",
      "bad stars top grilled summer\n",
      "Topic #17:\n",
      "soju watermelon fun party yum\n",
      "Topic #18:\n",
      "waiters special tasted disappointed plate\n",
      "Topic #19:\n",
      "thai times salad excellent favorite\n",
      "Topic #20:\n",
      "fried pork put meat chinese\n",
      "Topic #21:\n",
      "noodles curry green appetizer feel\n",
      "Topic #22:\n",
      "rice portion tea yum feel\n",
      "Topic #23:\n",
      "amazing dinner awesome recommend full\n",
      "Topic #24:\n",
      "loud music family water favorite\n",
      "Topic #25:\n",
      "soup looked kimchi drinks point\n",
      "Topic #26:\n",
      "portions decor birthday prices yum\n",
      "Topic #27:\n",
      "friends group drink price part\n",
      "Topic #28:\n",
      "atmosphere sit serve reason high\n",
      "Topic #29:\n",
      "clams mussels lobster cooked cut\n",
      "Topic #30:\n",
      "give garden ordering gaek full\n",
      "Topic #31:\n",
      "seafood steamed squid makes yum\n",
      "Topic #32:\n",
      "korean wanted decided start yum\n",
      "Topic #33:\n",
      "area side servers yum favorite\n",
      "Topic #34:\n",
      "pot hot coming yum front\n",
      "Topic #35:\n",
      "raw free gave cake tentacles\n",
      "Topic #36:\n",
      "meal sweet inside crispy feel\n",
      "Topic #37:\n",
      "taste broth minutes mouth ate\n",
      "Topic #38:\n",
      "dishes astoria favorite enjoy years\n",
      "Topic #39:\n",
      "eggs noodle authentic spot feel\n",
      "Topic #40:\n",
      "spicy flavor egg cheese bland\n",
      "Topic #41:\n",
      "big feel thought seating called\n",
      "Topic #42:\n",
      "tasty restaurants ambiance quality review\n",
      "Topic #43:\n",
      "thai pad delivery space yum\n",
      "Topic #44:\n",
      "seafood worth crab asian yum\n",
      "\n",
      "45 247.65141626\n",
      "\n",
      "\n"
     ]
    }
   ],
   "source": [
    "for i in range(5,55,10):\n",
    "    lda_200 = LatentDirichletAllocation(n_components= i, max_iter=450, \n",
    "                                        topic_word_prior= 0.01, \n",
    "                                        doc_topic_prior=1,\n",
    "                                        learning_method='batch',\n",
    "                                        n_jobs= 1,random_state=275) \n",
    "    topic_components_200 = lda_200.fit_transform(X_train_200)\n",
    "    print_top_words(lda_200,vec_200.get_feature_names(), 5) #print the top 5 words!\n",
    "    print(i,lda_200.perplexity(X_test_200))\n",
    "    print('\\n')\n",
    "    \n",
    "    "
   ]
  },
  {
   "cell_type": "markdown",
   "metadata": {},
   "source": [
    "### Only 800 features"
   ]
  },
  {
   "cell_type": "code",
   "execution_count": 17,
   "metadata": {},
   "outputs": [],
   "source": [
    "vec_800 = CountVectorizer(token_pattern= \"[a-zA-Z']{3,}\",decode_error ='ignore', lowercase=True, stop_words = stop_list, max_features = 800)"
   ]
  },
  {
   "cell_type": "code",
   "execution_count": 18,
   "metadata": {},
   "outputs": [],
   "source": [
    "sparse_matrice_800 = vec_800.fit_transform(data.review)"
   ]
  },
  {
   "cell_type": "code",
   "execution_count": 19,
   "metadata": {},
   "outputs": [
    {
     "data": {
      "text/plain": [
       "array([[0, 0, 0, ..., 0, 0, 0],\n",
       "       [0, 0, 0, ..., 0, 2, 0],\n",
       "       [0, 0, 0, ..., 0, 0, 0],\n",
       "       ..., \n",
       "       [0, 0, 0, ..., 0, 0, 0],\n",
       "       [0, 0, 0, ..., 0, 0, 0],\n",
       "       [0, 0, 0, ..., 0, 0, 0]], dtype=int64)"
      ]
     },
     "execution_count": 19,
     "metadata": {},
     "output_type": "execute_result"
    }
   ],
   "source": [
    "sparse_matrice_800.toarray()"
   ]
  },
  {
   "cell_type": "code",
   "execution_count": 20,
   "metadata": {},
   "outputs": [],
   "source": [
    "X_train_800, X_test_800 = train_test_split(sparse_matrice_800, test_size=0.20, random_state=42) ## 80 -20 split"
   ]
  },
  {
   "cell_type": "code",
   "execution_count": 21,
   "metadata": {
    "scrolled": true
   },
   "outputs": [
    {
     "name": "stdout",
     "output_type": "stream",
     "text": [
      "Topic #0:\n",
      "table dishes bad thing dinner\n",
      "Topic #1:\n",
      "seafood pot hot rice spicy\n",
      "Topic #2:\n",
      "waiter friend things bit times\n",
      "Topic #3:\n",
      "seafood octopus live korean soju\n",
      "Topic #4:\n",
      "thai pad leng curry dish\n",
      "\n",
      "5 1498.12922962\n",
      "\n",
      "\n",
      "Topic #0:\n",
      "dish bad table side spicy\n",
      "Topic #1:\n",
      "rice mussels fried eggs steamed\n",
      "Topic #2:\n",
      "dinner awesome places recommend sweet\n",
      "Topic #3:\n",
      "eating meal large huge bbq\n",
      "Topic #4:\n",
      "thai pad curry patio area\n",
      "Topic #5:\n",
      "leng astoria amazing favorite delivery\n",
      "Topic #6:\n",
      "waiter asked looked servers table\n",
      "Topic #7:\n",
      "soup decor bit worth makes\n",
      "Topic #8:\n",
      "spicy sauce dish shrimp flavor\n",
      "Topic #9:\n",
      "dishes give pork small sik\n",
      "Topic #10:\n",
      "friend beef things lot feel\n",
      "Topic #11:\n",
      "big atmosphere stars portions special\n",
      "Topic #12:\n",
      "seafood broth pancake clams full\n",
      "Topic #13:\n",
      "seafood octopus pot live hot\n",
      "Topic #14:\n",
      "korean soju friends watermelon seafood\n",
      "\n",
      "15 1516.95760139\n",
      "\n",
      "\n",
      "Topic #0:\n",
      "table bad side minutes eggs\n",
      "Topic #1:\n",
      "shrimp mussels clams served crab\n",
      "Topic #2:\n",
      "thai pad portions prices day\n",
      "Topic #3:\n",
      "decor huge dinner attentive free\n",
      "Topic #4:\n",
      "patio noodle authentic garden outdoor\n",
      "Topic #5:\n",
      "amazing favorite stars delivery tasty\n",
      "Topic #6:\n",
      "waiter asked looked tip told\n",
      "Topic #7:\n",
      "soup worth makes price yum\n",
      "Topic #8:\n",
      "dish sauce curry astoria duck\n",
      "Topic #9:\n",
      "give eating sik gaek long\n",
      "Topic #10:\n",
      "bit friend lot pork left\n",
      "Topic #11:\n",
      "special quality seating sat yummy\n",
      "Topic #12:\n",
      "seafood broth spicy raw mouth\n",
      "Topic #13:\n",
      "octopus live korean hotpot style\n",
      "Topic #14:\n",
      "soju friends watermelon group waiters\n",
      "Topic #15:\n",
      "dishes atmosphere loud awesome music\n",
      "Topic #16:\n",
      "spicy noodles flavor sweet space\n",
      "Topic #17:\n",
      "rice fried beef things gave\n",
      "Topic #18:\n",
      "meal large full grilled couple\n",
      "Topic #19:\n",
      "leng taste salad fan tea\n",
      "Topic #20:\n",
      "big inside steamed small enjoy\n",
      "Topic #21:\n",
      "fun dish cooked party meat\n",
      "Topic #22:\n",
      "thing bbq front noodles lots\n",
      "Topic #23:\n",
      "times area tasted brought ate\n",
      "Topic #24:\n",
      "seafood pot hot pancake lobster\n",
      "\n",
      "25 1534.97910765\n",
      "\n",
      "\n",
      "Topic #0:\n",
      "spicy bad side tasted kind\n",
      "Topic #1:\n",
      "clams mussels squid served broth\n",
      "Topic #2:\n",
      "portions dinner sweet day prices\n",
      "Topic #3:\n",
      "decor drink free street seating\n",
      "Topic #4:\n",
      "thai pad patio outdoor beautiful\n",
      "Topic #5:\n",
      "atmosphere ambiance enjoy quality servers\n",
      "Topic #6:\n",
      "waiter asked tip told front\n",
      "Topic #7:\n",
      "soup worth makes yum called\n",
      "Topic #8:\n",
      "shrimp curry astoria excellent coconut\n",
      "Topic #9:\n",
      "eating sik gaek raw hard\n",
      "Topic #10:\n",
      "bit lot left ordering kimchi\n",
      "Topic #11:\n",
      "minutes plate leave green half\n",
      "Topic #12:\n",
      "korean feel alcohol tastes life\n",
      "Topic #13:\n",
      "pork grilled style lots yummy\n",
      "Topic #14:\n",
      "table group birthday super long\n",
      "Topic #15:\n",
      "dishes awesome places recommend cake\n",
      "Topic #16:\n",
      "noodles flavor space rolls veggies\n",
      "Topic #17:\n",
      "dish friend gave recommended generous\n",
      "Topic #18:\n",
      "meal top cooked couple flushing\n",
      "Topic #19:\n",
      "favorite thought crispy spot tea\n",
      "Topic #20:\n",
      "rice fried beef inside happy\n",
      "Topic #21:\n",
      "large wanted party bring cooking\n",
      "Topic #22:\n",
      "thing sit serve reason walked\n",
      "Topic #23:\n",
      "times noodles brought ate seated\n",
      "Topic #24:\n",
      "seafood soju watermelon pancake hotpot\n",
      "Topic #25:\n",
      "octopus live lobster abalone cut\n",
      "Topic #26:\n",
      "friends big waiters meat coming\n",
      "Topic #27:\n",
      "pot hot eggs crab udon\n",
      "Topic #28:\n",
      "sauce amazing stars salad duck\n",
      "Topic #29:\n",
      "loud fun music steamed full\n",
      "Topic #30:\n",
      "give bbq small attentive tasty\n",
      "Topic #31:\n",
      "huge taste mouth broth end\n",
      "Topic #32:\n",
      "noodle authentic garden cool fan\n",
      "Topic #33:\n",
      "leng area find wine deal\n",
      "Topic #34:\n",
      "things special delivery portion red\n",
      "\n",
      "35 1535.71698652\n",
      "\n",
      "\n",
      "Topic #0:\n",
      "table bad side tasted tables\n",
      "Topic #1:\n",
      "clams mussels yelp flushing stuff\n",
      "Topic #2:\n",
      "rice sweet drink day perfect\n",
      "Topic #3:\n",
      "excellent seated street couple reservations\n",
      "Topic #4:\n",
      "thai pad prices beautiful rolls\n",
      "Topic #5:\n",
      "atmosphere ambiance servers seating drinks\n",
      "Topic #6:\n",
      "waiter asked review told point\n",
      "Topic #7:\n",
      "soup makes yum called tom\n",
      "Topic #8:\n",
      "curry astoria shrimp coconut flavors\n",
      "Topic #9:\n",
      "give times restaurants water spot\n",
      "Topic #10:\n",
      "lot left kimchi asian reviews\n",
      "Topic #11:\n",
      "dinner minutes green leave half\n",
      "Topic #12:\n",
      "korean feel dollar juicy wanna\n",
      "Topic #13:\n",
      "hot fried stew cucumber cooking\n",
      "Topic #14:\n",
      "eating beer clean add visit\n",
      "Topic #15:\n",
      "dishes recommend steamed cake decided\n",
      "Topic #16:\n",
      "spicy flavor space veggies bland\n",
      "Topic #17:\n",
      "beef friend gave remember recommended\n",
      "Topic #18:\n",
      "dish find free cheese chewy\n",
      "Topic #19:\n",
      "patio thought fan tea home\n",
      "Topic #20:\n",
      "inside kind hard items chinese\n",
      "Topic #21:\n",
      "large wanted bring looked high\n",
      "Topic #22:\n",
      "thing sit serve lots filled\n",
      "Topic #23:\n",
      "noodles meal put ate check\n",
      "Topic #24:\n",
      "seafood pot soju watermelon busy\n",
      "Topic #25:\n",
      "octopus live lobster abalone cut\n",
      "Topic #26:\n",
      "friends big portions short ingredients\n",
      "Topic #27:\n",
      "pancake eggs seafood grilled crab\n",
      "Topic #28:\n",
      "sauce salad duck top fast\n",
      "Topic #29:\n",
      "loud fun music full part\n",
      "Topic #30:\n",
      "tasty price family plate reason\n",
      "Topic #31:\n",
      "taste broth mouth end juice\n",
      "Topic #32:\n",
      "noodle authentic garden summer evening\n",
      "Topic #33:\n",
      "area outdoor portion walked wine\n",
      "Topic #34:\n",
      "huge waiters special fish door\n",
      "Topic #35:\n",
      "leng front red disappointed type\n",
      "Topic #36:\n",
      "decor amazing tip average khao\n",
      "Topic #37:\n",
      "bit pork crispy quality decent\n",
      "Topic #38:\n",
      "hotpot long worth cool loved\n",
      "Topic #39:\n",
      "seafood small cooked squid cook\n",
      "Topic #40:\n",
      "group sik gaek bbq raw\n",
      "Topic #41:\n",
      "awesome favorite delivery meat enjoy\n",
      "Topic #42:\n",
      "birthday super attentive party happy\n",
      "Topic #43:\n",
      "things brought ordering coming wrong\n",
      "Topic #44:\n",
      "places stars served korea years\n",
      "\n",
      "45 1576.20946916\n",
      "\n",
      "\n"
     ]
    }
   ],
   "source": [
    "for i in range(5,55,10):\n",
    "    lda_800 = LatentDirichletAllocation(n_components= i, max_iter=450, topic_word_prior= 0.01, doc_topic_prior=1,\n",
    "                                    learning_method='batch',n_jobs= 1,random_state=275) \n",
    "    topic_components_800 = lda_800.fit_transform(X_train_800)\n",
    "    print_top_words(lda_800,vec_800.get_feature_names(), 5) #print the top 5 words!\n",
    "    print(i,lda_800.perplexity(X_test_800))\n",
    "    print('\\n')"
   ]
  },
  {
   "cell_type": "markdown",
   "metadata": {},
   "source": [
    "# __Analysis__"
   ]
  },
  {
   "cell_type": "markdown",
   "metadata": {},
   "source": [
    "## Part 1"
   ]
  },
  {
   "cell_type": "markdown",
   "metadata": {},
   "source": [
    "Based on the results above, first we can observe that the preplexity of using 200 features is much smaller than the one of using 800 features. Additionally, if we closely look at the topics of the model with 800 features, we can see that the distinction of topics is not very accurate. That is, by just looking at the top words in the topics, it is not easy to identify what the topics are about. Hence, first, the model with 200 features only will be selected. \n",
    "\n",
    "Furthermore, we can see that within that model, the preplexity is the lowest for 15 topics. However, after 15 topics, it increases with addition of number of topics. Hence, by just looking at the preplixity score, the model with 15 topics should be chosen as the final one. \n",
    "\n",
    "Whereas, if we compare the 5 topics model with 15 topics model, we can observe that in the latter model, it becomes increasingly more difficult to identify distinct topics. Additionally, in the 15-topic model a few topics can be combined into one: for instance, topics about the service and waiters are combined into oone in the 5 topic model. Hence, as a final model the one with 5 topics will be chosen as it is doing a better job for interpreting the topics and for dimensionality reduction. "
   ]
  },
  {
   "cell_type": "markdown",
   "metadata": {},
   "source": [
    "## __Part 2__"
   ]
  },
  {
   "cell_type": "markdown",
   "metadata": {},
   "source": [
    "Beased on the final model, the following are names of the 15 topics:\n",
    "1. Topic 1: Seasoning/Spiciness of dishes\n",
    "2. Topic 2: Korean dishes\n",
    "3. Topic 3: Seafood\n",
    "4. Topic 4: Friendly atmoshpere\n",
    "5. Topic 5: Thai food"
   ]
  },
  {
   "cell_type": "markdown",
   "metadata": {},
   "source": [
    "## Part 3"
   ]
  },
  {
   "cell_type": "code",
   "execution_count": 22,
   "metadata": {},
   "outputs": [],
   "source": [
    "lda_1 = LatentDirichletAllocation(n_components= 5, max_iter=450, \n",
    "                                        topic_word_prior= 0.01, \n",
    "                                        doc_topic_prior=0.001,\n",
    "                                        learning_method='batch',\n",
    "                                        n_jobs= 1,random_state=275) "
   ]
  },
  {
   "cell_type": "code",
   "execution_count": 23,
   "metadata": {},
   "outputs": [],
   "source": [
    "topic_components_1 = lda_1.fit_transform(X_train_200)"
   ]
  },
  {
   "cell_type": "code",
   "execution_count": 24,
   "metadata": {},
   "outputs": [
    {
     "name": "stdout",
     "output_type": "stream",
     "text": [
      "Topic #0:\n",
      "thai spicy rice dish pad\n",
      "Topic #1:\n",
      "korean dishes atmosphere seafood music\n",
      "Topic #2:\n",
      "seafood pot octopus live hot\n",
      "Topic #3:\n",
      "seafood gaek soju sik friends\n",
      "Topic #4:\n",
      "thai pad leng waiter noodles\n",
      "\n"
     ]
    }
   ],
   "source": [
    "print_top_words(lda_1,vec_200.get_feature_names(), 5) #print the top 5 words!"
   ]
  },
  {
   "cell_type": "code",
   "execution_count": 25,
   "metadata": {
    "scrolled": true
   },
   "outputs": [],
   "source": [
    "pd1= pd.DataFrame(topic_components_1[0:9])"
   ]
  },
  {
   "cell_type": "code",
   "execution_count": 26,
   "metadata": {},
   "outputs": [
    {
     "data": {
      "text/plain": [
       "array([  2.10428074e-01,   2.94074401e-05,   7.89483704e-01,\n",
       "         2.94074401e-05,   2.94074401e-05])"
      ]
     },
     "execution_count": 26,
     "metadata": {},
     "output_type": "execute_result"
    }
   ],
   "source": [
    "topic_components_1[0]"
   ]
  },
  {
   "cell_type": "code",
   "execution_count": 27,
   "metadata": {},
   "outputs": [
    {
     "data": {
      "text/plain": [
       "<matplotlib.axes._subplots.AxesSubplot at 0x1ef90017908>"
      ]
     },
     "execution_count": 27,
     "metadata": {},
     "output_type": "execute_result"
    },
    {
     "data": {
      "image/png": "[encoded data removed]",
      "text/plain": [
       "<matplotlib.figure.Figure at 0x1ef90015208>"
      ]
     },
     "metadata": {},
     "output_type": "display_data"
    }
   ],
   "source": [
    "pd1.plot(kind ='bar')\n"
   ]
  },
  {
   "cell_type": "code",
   "execution_count": 28,
   "metadata": {},
   "outputs": [],
   "source": [
    "lda_2 = LatentDirichletAllocation(n_components= 5, max_iter=450, \n",
    "                                        topic_word_prior= 0.01, \n",
    "                                        doc_topic_prior=0.1,\n",
    "                                        learning_method='batch',\n",
    "                                        n_jobs= 1,random_state=275)"
   ]
  },
  {
   "cell_type": "code",
   "execution_count": 29,
   "metadata": {},
   "outputs": [],
   "source": [
    "topic_components_2 = lda_2.fit_transform(X_train_200)"
   ]
  },
  {
   "cell_type": "code",
   "execution_count": 30,
   "metadata": {
    "scrolled": true
   },
   "outputs": [
    {
     "name": "stdout",
     "output_type": "stream",
     "text": [
      "Topic #0:\n",
      "spicy rice waiter dish sauce\n",
      "Topic #1:\n",
      "korean seafood atmosphere music small\n",
      "Topic #2:\n",
      "seafood pot octopus live hot\n",
      "Topic #3:\n",
      "seafood sik gaek birthday beef\n",
      "Topic #4:\n",
      "thai pad leng curry astoria\n",
      "\n"
     ]
    }
   ],
   "source": [
    "print_top_words(lda_2,vec_200.get_feature_names(), 5) #print the top 5 words!\n"
   ]
  },
  {
   "cell_type": "code",
   "execution_count": 31,
   "metadata": {},
   "outputs": [],
   "source": [
    "pd2= pd.DataFrame(topic_components_2[0:9])"
   ]
  },
  {
   "cell_type": "code",
   "execution_count": 32,
   "metadata": {},
   "outputs": [
    {
     "data": {
      "text/plain": [
       "<matplotlib.axes._subplots.AxesSubplot at 0x1ef90015748>"
      ]
     },
     "execution_count": 32,
     "metadata": {},
     "output_type": "execute_result"
    },
    {
     "data": {
      "image/png": "[encoded data removed]",
      "text/plain": [
       "<matplotlib.figure.Figure at 0x1ef900a2630>"
      ]
     },
     "metadata": {},
     "output_type": "display_data"
    }
   ],
   "source": [
    "pd2.plot(kind ='bar')\n"
   ]
  },
  {
   "cell_type": "code",
   "execution_count": 33,
   "metadata": {},
   "outputs": [],
   "source": [
    "lda_3 = LatentDirichletAllocation(n_components= 5, max_iter=450, \n",
    "                                        topic_word_prior= 0.01, \n",
    "                                        doc_topic_prior=1,\n",
    "                                        learning_method='batch',\n",
    "                                        n_jobs= 1,random_state=275)"
   ]
  },
  {
   "cell_type": "code",
   "execution_count": 34,
   "metadata": {},
   "outputs": [],
   "source": [
    "topic_components_3 = lda_3.fit_transform(X_train_200)"
   ]
  },
  {
   "cell_type": "code",
   "execution_count": 35,
   "metadata": {
    "scrolled": true
   },
   "outputs": [
    {
     "name": "stdout",
     "output_type": "stream",
     "text": [
      "Topic #0:\n",
      "spicy dish rice noodles sauce\n",
      "Topic #1:\n",
      "dishes korean give big atmosphere\n",
      "Topic #2:\n",
      "seafood pot octopus live hot\n",
      "Topic #3:\n",
      "friends table eating beef things\n",
      "Topic #4:\n",
      "thai pad leng curry astoria\n",
      "\n"
     ]
    }
   ],
   "source": [
    "print_top_words(lda_3,vec_200.get_feature_names(), 5) #print the top 5 words!\n"
   ]
  },
  {
   "cell_type": "code",
   "execution_count": 36,
   "metadata": {},
   "outputs": [],
   "source": [
    "pd3= pd.DataFrame(topic_components_3[0:9])"
   ]
  },
  {
   "cell_type": "code",
   "execution_count": 37,
   "metadata": {},
   "outputs": [
    {
     "data": {
      "text/plain": [
       "<matplotlib.axes._subplots.AxesSubplot at 0x1ef908eee48>"
      ]
     },
     "execution_count": 37,
     "metadata": {},
     "output_type": "execute_result"
    },
    {
     "data": {
      "image/png": "[encoded data removed]",
      "text/plain": [
       "<matplotlib.figure.Figure at 0x1ef90940ef0>"
      ]
     },
     "metadata": {},
     "output_type": "display_data"
    }
   ],
   "source": [
    "pd3.plot(kind ='bar')"
   ]
  },
  {
   "cell_type": "code",
   "execution_count": 38,
   "metadata": {},
   "outputs": [],
   "source": [
    "lda_4 = LatentDirichletAllocation(n_components= 5, max_iter=450, \n",
    "                                        topic_word_prior= 0.01, \n",
    "                                        doc_topic_prior=10,\n",
    "                                        learning_method='batch',\n",
    "                                        n_jobs= 1,random_state=275)"
   ]
  },
  {
   "cell_type": "code",
   "execution_count": 39,
   "metadata": {},
   "outputs": [],
   "source": [
    "topic_components_4 = lda_4.fit_transform(X_train_200)"
   ]
  },
  {
   "cell_type": "code",
   "execution_count": 40,
   "metadata": {},
   "outputs": [
    {
     "name": "stdout",
     "output_type": "stream",
     "text": [
      "Topic #0:\n",
      "spicy dish rice noodles sauce\n",
      "Topic #1:\n",
      "korean dishes big atmosphere meal\n",
      "Topic #2:\n",
      "seafood pot octopus live hot\n",
      "Topic #3:\n",
      "table huge soju friends give\n",
      "Topic #4:\n",
      "thai pad leng curry portions\n",
      "\n"
     ]
    }
   ],
   "source": [
    "print_top_words(lda_4,vec_200.get_feature_names(), 5) #print the top 5 words!\n"
   ]
  },
  {
   "cell_type": "code",
   "execution_count": 41,
   "metadata": {},
   "outputs": [],
   "source": [
    "pd4= pd.DataFrame(topic_components_4[0:9])"
   ]
  },
  {
   "cell_type": "code",
   "execution_count": 42,
   "metadata": {},
   "outputs": [
    {
     "data": {
      "text/plain": [
       "<matplotlib.axes._subplots.AxesSubplot at 0x1ef909b8eb8>"
      ]
     },
     "execution_count": 42,
     "metadata": {},
     "output_type": "execute_result"
    },
    {
     "data": {
      "image/png": "[encoded data removed]",
      "text/plain": [
       "<matplotlib.figure.Figure at 0x1ef90973400>"
      ]
     },
     "metadata": {},
     "output_type": "display_data"
    }
   ],
   "source": [
    "pd4.plot(kind ='bar')"
   ]
  },
  {
   "cell_type": "markdown",
   "metadata": {},
   "source": [
    "From the bar plots above, we can see that the distribution of topics for the first 9 documents becomes smoother when the document topic priors increase. Mainly, lower alphas indicate that the topics are more distinct and the document contains a mixture of few topics or even a single topic, whereas high alpha implies that the document contains a mix of the most topics. Hence, as alpha goes up most of the documents will contain most of the topics."
   ]
  }
 ],
 "metadata": {
  "kernelspec": {
   "display_name": "Python 3",
   "language": "python",
   "name": "python3"
  },
  "language_info": {
   "codemirror_mode": {
    "name": "ipython",
    "version": 3
   },
   "file_extension": ".py",
   "mimetype": "text/x-python",
   "name": "python",
   "nbconvert_exporter": "python",
   "pygments_lexer": "ipython3",
   "version": "3.6.6"
  }
 },
 "nbformat": 4,
 "nbformat_minor": 2
}
